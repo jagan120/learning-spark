{
 "cells": [
  {
   "cell_type": "code",
   "execution_count": 1,
   "metadata": {
    "collapsed": false
   },
   "outputs": [],
   "source": [
    "#Loading Modules\n",
    "\n",
    "import os\n",
    "from pyspark import SparkContext"
   ]
  },
  {
   "cell_type": "code",
   "execution_count": 2,
   "metadata": {
    "collapsed": true
   },
   "outputs": [],
   "source": [
    "# Initializing Spark Context\n",
    "\n",
    "sc = SparkContext('local[*]')"
   ]
  },
  {
   "cell_type": "code",
   "execution_count": 3,
   "metadata": {
    "collapsed": false
   },
   "outputs": [],
   "source": [
    "#Creating an RDD from a Text File\n",
    "\n",
    "textFile = sc.textFile(os.environ[\"SPARK_HOME\"]+\"/README.md\")"
   ]
  },
  {
   "cell_type": "code",
   "execution_count": 4,
   "metadata": {
    "collapsed": false
   },
   "outputs": [
    {
     "data": {
      "text/plain": [
       "95"
      ]
     },
     "execution_count": 4,
     "metadata": {},
     "output_type": "execute_result"
    }
   ],
   "source": [
    "#Number of Lines in the RDD\n",
    "\n",
    "textFile.count()"
   ]
  },
  {
   "cell_type": "code",
   "execution_count": 5,
   "metadata": {
    "collapsed": false
   },
   "outputs": [
    {
     "data": {
      "text/plain": [
       "u'# Apache Spark'"
      ]
     },
     "execution_count": 5,
     "metadata": {},
     "output_type": "execute_result"
    }
   ],
   "source": [
    "#Return the first line from the RDD\n",
    "\n",
    "textFile.first()"
   ]
  },
  {
   "cell_type": "code",
   "execution_count": 13,
   "metadata": {
    "collapsed": false
   },
   "outputs": [
    {
     "data": {
      "text/plain": [
       "17"
      ]
     },
     "execution_count": 13,
     "metadata": {},
     "output_type": "execute_result"
    }
   ],
   "source": [
    "#Using a 'filter' transformation with 'count' action. Chaining Both the functions\n",
    "\n",
    "linesWithSpark = textFile.filter(lambda line : \"Spark\" in  line)\n",
    "linesWithSpark.count()"
   ]
  },
  {
   "cell_type": "code",
   "execution_count": 14,
   "metadata": {
    "collapsed": false
   },
   "outputs": [
    {
     "data": {
      "text/plain": [
       "14"
      ]
     },
     "execution_count": 14,
     "metadata": {},
     "output_type": "execute_result"
    }
   ],
   "source": [
    "#Return the length of the biggest line in the RDD\n",
    "\n",
    "textFile.map(lambda line : len(line.split())).reduce(lambda a, b : a if ( a > b ) else b)"
   ]
  },
  {
   "cell_type": "code",
   "execution_count": 15,
   "metadata": {
    "collapsed": false
   },
   "outputs": [
    {
     "data": {
      "text/plain": [
       "[(u'help', 1),\n",
       " (u'when', 1),\n",
       " (u'Hadoop', 3),\n",
       " (u'\"local\"', 1),\n",
       " (u'including', 3),\n",
       " (u'computation', 1),\n",
       " (u'file', 1),\n",
       " (u'high-level', 1),\n",
       " (u'find', 1),\n",
       " (u'web', 1),\n",
       " (u'Shell', 2),\n",
       " (u'cluster', 2),\n",
       " (u'also', 4),\n",
       " (u'using:', 1),\n",
       " (u'Big', 1),\n",
       " (u'guidance', 2),\n",
       " (u'run:', 1),\n",
       " (u'Scala,', 1),\n",
       " (u'Running', 1),\n",
       " (u'should', 2),\n",
       " (u'environment', 1),\n",
       " (u'to', 14),\n",
       " (u'only', 1),\n",
       " (u'module,', 1),\n",
       " (u'given.', 1),\n",
       " (u'rich', 1),\n",
       " (u'directory.', 1),\n",
       " (u'Apache', 1),\n",
       " (u'Interactive', 2),\n",
       " (u'sc.parallelize(range(1000)).count()', 1),\n",
       " (u'Building', 1),\n",
       " (u'do', 2),\n",
       " (u'guide,', 1),\n",
       " (u'return', 2),\n",
       " (u'which', 2),\n",
       " (u'Programs', 1),\n",
       " (u'Many', 1),\n",
       " (u'Try', 1),\n",
       " (u'built,', 1),\n",
       " (u'YARN,', 1),\n",
       " (u'R,', 1),\n",
       " (u'using', 2),\n",
       " (u'Example', 1),\n",
       " (u'scala>', 1),\n",
       " (u'Once', 1),\n",
       " (u'Spark\"](http://spark.apache.org/docs/latest/building-spark.html).', 1),\n",
       " (u'Because', 1),\n",
       " (u'cluster.', 1),\n",
       " (u'name', 1),\n",
       " (u'Testing', 1),\n",
       " (u'Streaming', 1),\n",
       " (u'./bin/pyspark', 1),\n",
       " (u'SQL', 2),\n",
       " (u'through', 1),\n",
       " (u'GraphX', 1),\n",
       " (u'them,', 1),\n",
       " (u'[run', 1),\n",
       " (u'analysis.', 1),\n",
       " (u'the', 21),\n",
       " (u'abbreviated', 1),\n",
       " (u'set', 2),\n",
       " (u'[project', 2),\n",
       " (u'Scala', 2),\n",
       " (u'##', 8),\n",
       " (u'thread,', 1),\n",
       " (u'library', 1),\n",
       " (u'see', 1),\n",
       " (u'individual', 1),\n",
       " (u'examples', 2),\n",
       " (u'MASTER', 1),\n",
       " (u'runs.', 1),\n",
       " (u'[Apache', 1),\n",
       " (u'Pi', 1),\n",
       " (u'instructions.', 1),\n",
       " (u'More', 1),\n",
       " (u'Python,', 2),\n",
       " (u'#', 1),\n",
       " (u'processing,', 1),\n",
       " (u'for', 11),\n",
       " (u'optimized', 1),\n",
       " (u'its', 1),\n",
       " (u'version', 1),\n",
       " (u'wiki](https://cwiki.apache.org/confluence/display/SPARK).', 1),\n",
       " (u'provides', 1),\n",
       " (u'print', 1),\n",
       " (u'Configuration', 1),\n",
       " (u'supports', 2),\n",
       " (u'command,', 2),\n",
       " (u'[params]`.', 1),\n",
       " (u'refer', 2),\n",
       " (u'available', 1),\n",
       " (u'be', 2),\n",
       " (u'Guide](http://spark.apache.org/docs/latest/configuration.html)', 1),\n",
       " (u'run', 7),\n",
       " (u'tests](https://cwiki.apache.org/confluence/display/SPARK/Useful+Developer+Tools).',\n",
       "  1),\n",
       " (u'Versions', 1),\n",
       " (u'This', 2),\n",
       " (u'Hadoop,', 2),\n",
       " (u'Documentation', 1),\n",
       " (u'use', 3),\n",
       " (u'downloaded', 1),\n",
       " (u'distributions.', 1),\n",
       " (u'Spark.', 1),\n",
       " (u'example:', 1),\n",
       " (u'`examples`', 2),\n",
       " (u'-DskipTests', 1),\n",
       " (u'Maven](http://maven.apache.org/).', 1),\n",
       " (u'[\"Building', 1),\n",
       " (u'package', 1),\n",
       " (u'of', 5),\n",
       " (u'changed', 1),\n",
       " (u'programming', 1),\n",
       " (u'Spark', 13),\n",
       " (u'against', 1),\n",
       " (u'site,', 1),\n",
       " (u'graph', 1),\n",
       " (u'For', 2),\n",
       " (u'or', 3),\n",
       " (u'comes', 1),\n",
       " (u'learning,', 1),\n",
       " (u'and', 10),\n",
       " (u'contains', 1),\n",
       " (u'can', 6),\n",
       " (u'overview', 1),\n",
       " (u'package.)', 1),\n",
       " (u'Please', 3),\n",
       " (u'one', 2),\n",
       " (u'documentation,', 1),\n",
       " (u'(You', 1),\n",
       " (u'Online', 1),\n",
       " (u'tools', 1),\n",
       " (u'your', 1),\n",
       " (u'threads.', 1),\n",
       " (u'Tests', 1),\n",
       " (u'fast', 1),\n",
       " (u'from', 1),\n",
       " (u'package.', 1),\n",
       " (u'APIs', 1),\n",
       " (u'./bin/run-example', 2),\n",
       " (u'SparkPi', 2),\n",
       " (u'locally', 2),\n",
       " (u'system', 1),\n",
       " (u'submit', 1),\n",
       " (u'systems.', 1),\n",
       " (u'start', 1),\n",
       " (u'params', 1),\n",
       " (u'build/mvn', 1),\n",
       " (u'way', 1),\n",
       " (u'basic', 1),\n",
       " (u'README', 1),\n",
       " (u'<http://spark.apache.org/>', 1),\n",
       " (u'It', 2),\n",
       " (u'graphs', 1),\n",
       " (u'engine', 1),\n",
       " (u'project', 1),\n",
       " (u'configure', 1),\n",
       " (u'on', 5),\n",
       " (u'Note', 1),\n",
       " (u'N', 1),\n",
       " (u'usage', 1),\n",
       " (u'\"local[N]\"', 1),\n",
       " (u'>>>', 1),\n",
       " (u'DataFrames,', 1),\n",
       " (u'particular', 2),\n",
       " (u'instance:', 1),\n",
       " (u'./bin/spark-shell', 1),\n",
       " (u'general', 2),\n",
       " (u'with', 3),\n",
       " (u'easiest', 1),\n",
       " (u'protocols', 1),\n",
       " (u'must', 1),\n",
       " (u'And', 1),\n",
       " (u'versions', 1),\n",
       " (u'this', 1),\n",
       " (u'setup', 1),\n",
       " (u'page](http://spark.apache.org/documentation.html)', 1),\n",
       " (u'shell:', 2),\n",
       " (u'will', 1),\n",
       " (u'`./bin/run-example', 1),\n",
       " (u'following', 2),\n",
       " (u'Hadoop-supported', 1),\n",
       " (u'distribution', 1),\n",
       " (u'example', 3),\n",
       " (u'are', 1),\n",
       " (u'detailed', 2),\n",
       " (u'Data.', 1),\n",
       " (u'mesos://', 1),\n",
       " (u'stream', 1),\n",
       " (u'computing', 1),\n",
       " (u'URL,', 1),\n",
       " (u'is', 6),\n",
       " (u'in', 5),\n",
       " (u'higher-level', 1),\n",
       " (u'tests', 2),\n",
       " (u'1000:', 2),\n",
       " (u'an', 3),\n",
       " (u'sample', 1),\n",
       " (u'To', 2),\n",
       " (u'at', 2),\n",
       " (u'have', 1),\n",
       " (u'1000).count()', 1),\n",
       " (u'[\"Specifying', 1),\n",
       " (u'[building', 1),\n",
       " (u'You', 3),\n",
       " (u'if', 4),\n",
       " (u'different', 1),\n",
       " (u'MASTER=spark://host:7077', 1),\n",
       " (u'no', 1),\n",
       " (u'not', 1),\n",
       " (u'Java,', 1),\n",
       " (u'that', 2),\n",
       " (u'storage', 1),\n",
       " (u'MLlib', 1),\n",
       " (u'same', 1),\n",
       " (u'machine', 1),\n",
       " (u'how', 2),\n",
       " (u'need', 1),\n",
       " (u'other', 1),\n",
       " (u'build', 3),\n",
       " (u'prefer', 1),\n",
       " (u'online', 1),\n",
       " (u'you', 4),\n",
       " (u'several', 1),\n",
       " (u'A', 1),\n",
       " (u'About', 1),\n",
       " (u'HDFS', 1),\n",
       " (u'[Configuration', 1),\n",
       " (u'sc.parallelize(1', 1),\n",
       " (u'locally.', 1),\n",
       " (u'Hive', 2),\n",
       " (u'running', 1),\n",
       " (u'uses', 1),\n",
       " (u'a', 8),\n",
       " (u'Version\"](http://spark.apache.org/docs/latest/building-spark.html#specifying-the-hadoop-version)',\n",
       "  1),\n",
       " (u'variable', 1),\n",
       " (u'The', 1),\n",
       " (u'data', 1),\n",
       " (u'class', 2),\n",
       " (u'built', 1),\n",
       " (u'building', 2),\n",
       " (u'\"yarn\"', 1),\n",
       " (u'Python', 2),\n",
       " (u'Thriftserver', 1),\n",
       " (u'processing.', 1),\n",
       " (u'programs', 2),\n",
       " (u'requires', 1),\n",
       " (u'documentation', 3),\n",
       " (u'pre-built', 1),\n",
       " (u'Alternatively,', 1),\n",
       " (u'programs,', 1),\n",
       " (u'./dev/run-tests', 1),\n",
       " (u'Spark](#building-spark).', 1),\n",
       " (u'clean', 1),\n",
       " (u'<class>', 1),\n",
       " (u'spark://', 1),\n",
       " (u'first', 1),\n",
       " (u'core', 1),\n",
       " (u'talk', 1),\n",
       " (u'latest', 1)]"
      ]
     },
     "execution_count": 15,
     "metadata": {},
     "output_type": "execute_result"
    }
   ],
   "source": [
    "#Word Count in One Line!\n",
    "\n",
    "textFile.flatMap(lambda line: line.split()).map(lambda word : (word, 1)).reduceByKey(lambda a, b : a+b).collect()"
   ]
  },
  {
   "cell_type": "code",
   "execution_count": 20,
   "metadata": {
    "collapsed": false
   },
   "outputs": [
    {
     "data": {
      "text/plain": [
       "17"
      ]
     },
     "execution_count": 20,
     "metadata": {},
     "output_type": "execute_result"
    }
   ],
   "source": [
    "#Caching : Pulling Data Set into a Cluster wide in-memory cache\n",
    "\n",
    "linesWithSpark.cache()\n",
    "\n",
    "linesWithSpark.count()\n",
    "\n",
    "linesWithSpark.count()"
   ]
  }
 ],
 "metadata": {
  "kernelspec": {
   "display_name": "Python 2",
   "language": "python",
   "name": "python2"
  },
  "language_info": {
   "codemirror_mode": {
    "name": "ipython",
    "version": 2
   },
   "file_extension": ".py",
   "mimetype": "text/x-python",
   "name": "python",
   "nbconvert_exporter": "python",
   "pygments_lexer": "ipython2",
   "version": "2.7.11"
  }
 },
 "nbformat": 4,
 "nbformat_minor": 0
}
